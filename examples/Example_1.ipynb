{
 "cells": [
  {
   "cell_type": "code",
   "execution_count": null,
   "metadata": {},
   "outputs": [],
   "source": [
    "from yadeGrid.body import Body, Quaternion\n",
    "from yadeGrid.vectorFunc import norm, normalise, dotProduct, crossProduct\n",
    "from yadeGrid.yadeTypes import Vector3D, F64\n",
    "from yadeGrid.interaction import Interaction\n",
    "from yadeGrid.simulations import ForceResetter, SerialEngine, Scene, SimulationLoop, InteractionsCalculator, LeapFrogIntegrator, BodyContainer, InteractionContainer, CustomPythonEngine\n",
    "import numpy as np\n",
    "from ipywidgets import interact, interactive, fixed, interact_manual\n",
    "import matplotlib.pyplot as plt "
   ]
  },
  {
   "cell_type": "code",
   "execution_count": null,
   "metadata": {},
   "outputs": [],
   "source": [
    "\n",
    "\n",
    "young: F64   = F64(70e9)\n",
    "poisson: F64 = F64(0.35)\n",
    "density: F64 = F64(2700.0)\n",
    "\n",
    "\n",
    "bodyIds: list = [0, 1]\n",
    "bodyPos: list[Vector3D] = [np.array([i, 0, 0]) for i in bodyIds]\n",
    "radius: F64 = F64(0.1)\n",
    "bodyCont = BodyContainer()\n",
    "[bodyCont.add_body(pos=pos, radius=radius, density=density) for pos in bodyPos]\n",
    "\n",
    "\n",
    "interCont = InteractionContainer()\n",
    "\n",
    "rad     = F64(0.1)\n",
    "density = F64(2700.0)\n",
    "pos1    = np.array([0, 0, 0], dtype=F64)\n",
    "pos2    = np.array([1, 0, 0], dtype=F64)\n",
    "pos3    = np.array([3, 0, 0], dtype=F64)\n",
    "young   = F64(70e9)\n",
    "poisson = F64(0.35)\n",
    "\n",
    "dt: F64 = F64(1e-6)\n",
    "\n",
    "edges = [[0, 1]]\n",
    "for edge in edges:\n",
    "    b1 = bodyCont[edge[0]]\n",
    "    b2 = bodyCont[edge[1]]\n",
    "    interCont.add_interaction(b1, b2, dt, young_mod=young, poisson=poisson)\n",
    "\n",
    "bodyCont[0].vel = np.array([0, 100, 0], dtype=F64)\n",
    "bodyCont[0].DynamicQ = False\n",
    "\n",
    "print(bodyCont.bodies[0].mass)\n",
    "omega = Scene()\n",
    "\n",
    "\n",
    "bodyPoses: list[list[Vector3D]] = []\n",
    "bodyOris: list[list[Quaternion]] = []\n",
    "normalForce = []\n",
    "shearForce = []\n",
    "bendingMoment = []\n",
    "torsionMoment = []\n",
    "\n",
    "\n",
    "def printStuff():\n",
    "    # [print(\"normal force: \", inter.normal_force) for _, inter in interCont]\n",
    "    # [print(\"Shear force: \", inter.shear_force) for _, inter in interCont]\n",
    "    # [print(\"Bending moment: \", inter.bending_moment) for _, inter in interCont]\n",
    "    # [print(\"Torsion moment: \", inter.torsion_moment) for _, inter in interCont]\n",
    "    poses = [body.pos for body in bodyCont.bodies]\n",
    "    oris = [body.ori for body in bodyCont.bodies]   \n",
    "    normalForce.append(interCont[0, 1].normal_force)\n",
    "    shearForce.append(interCont[0, 1].shear_force)\n",
    "    bendingMoment.append(interCont[0, 1].bending_moment)\n",
    "    torsionMoment.append(interCont[0, 1].torsion_moment)\n",
    "    bodyPoses.append(poses)\n",
    "    bodyOris.append(oris)\n",
    "    # print(\"body 1 force\", bodyCont[0].force)\n",
    "    # print(\"body 2 force\", bodyCont[1].force)\n",
    "    # print(\" \")"
   ]
  },
  {
   "cell_type": "code",
   "execution_count": null,
   "metadata": {},
   "outputs": [],
   "source": [
    "simulationLoop = SimulationLoop(\n",
    "    engines=[\n",
    "        ForceResetter(),\n",
    "        InteractionsCalculator(),\n",
    "        LeapFrogIntegrator(dt=1e-6),\n",
    "        CustomPythonEngine(pyFunction=printStuff)\n",
    "    ]\n",
    ")\n",
    "simulationLoop.simulate(50_000)"
   ]
  },
  {
   "cell_type": "code",
   "execution_count": null,
   "metadata": {},
   "outputs": [],
   "source": [
    "def plot_2d_scatter(n=0):\n",
    "    xs = [i[0] for i in bodyPoses[n]]\n",
    "    ys = [i[1] for i in bodyPoses[n]]\n",
    "    plt.scatter(xs, ys)\n",
    "    plt.xlim(-3, 3)\n",
    "    plt.ylim(0, 6)\n",
    "\n",
    "interact(plot_2d_scatter, n=(0,50000,1))"
   ]
  },
  {
   "cell_type": "code",
   "execution_count": null,
   "metadata": {},
   "outputs": [],
   "source": [
    "fx = [f[0] for f in shearForce]\n",
    "fy = [f[1] for f in shearForce]\n",
    "fz = [f[2] for f in shearForce]\n",
    "\n",
    "plt.plot(fx, label=\"x\")\n",
    "plt.plot(fy, label=\"y\")\n",
    "plt.plot(fz, label=\"z\")\n",
    "plt.legend()"
   ]
  },
  {
   "cell_type": "code",
   "execution_count": null,
   "metadata": {},
   "outputs": [],
   "source": [
    "lens = [norm(pos1 - pos2) for pos1, pos2 in bodyPoses]\n",
    "plt.plot(lens)\n",
    "plt.ylim(0.99, 1.01)"
   ]
  },
  {
   "cell_type": "code",
   "execution_count": null,
   "metadata": {},
   "outputs": [],
   "source": [
    "angles = [ori1.conv_2axisAngle().angle for ori1, ori2 in bodyOris]\n",
    "axes = [ori1.conv_2axisAngle().axis for ori1, ori2 in bodyOris]\n",
    "\n",
    "plt.plot(angles)"
   ]
  }
 ],
 "metadata": {
  "kernelspec": {
   "display_name": "venv",
   "language": "python",
   "name": "python3"
  },
  "language_info": {
   "codemirror_mode": {
    "name": "ipython",
    "version": 3
   },
   "file_extension": ".py",
   "mimetype": "text/x-python",
   "name": "python",
   "nbconvert_exporter": "python",
   "pygments_lexer": "ipython3",
   "version": "3.10.6"
  },
  "orig_nbformat": 4
 },
 "nbformat": 4,
 "nbformat_minor": 2
}
